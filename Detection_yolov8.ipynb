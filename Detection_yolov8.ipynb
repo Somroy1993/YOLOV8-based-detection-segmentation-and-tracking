{
  "nbformat": 4,
  "nbformat_minor": 0,
  "metadata": {
    "colab": {
      "provenance": [],
      "mount_file_id": "1e8i3PyQsO6NH4oa4tUzXpWv5o8XBcGTR",
      "authorship_tag": "ABX9TyOU5Dtpcijjf1mzkHPPS6CT",
      "include_colab_link": true
    },
    "kernelspec": {
      "name": "python3",
      "display_name": "Python 3"
    },
    "language_info": {
      "name": "python"
    },
    "accelerator": "TPU"
  },
  "cells": [
    {
      "cell_type": "markdown",
      "metadata": {
        "id": "view-in-github",
        "colab_type": "text"
      },
      "source": [
        "<a href=\"https://colab.research.google.com/github/Somroy1993/YOLOV8-based-detection-segmentation-and-tracking/blob/main/Detection_yolov8.ipynb\" target=\"_parent\"><img src=\"https://colab.research.google.com/assets/colab-badge.svg\" alt=\"Open In Colab\"/></a>"
      ]
    },
    {
      "cell_type": "markdown",
      "source": [
        "# **We are going to use YoloV8 as the detection tool, to detect objects in test video here. Please go through code guide section in Readme for more clarification on steps.**"
      ],
      "metadata": {
        "id": "gk_Ix79VpRfo"
      }
    },
    {
      "cell_type": "markdown",
      "source": [
        "**Step1: First thing first, get the requirements installed.**"
      ],
      "metadata": {
        "id": "nMHI5PtLdgw_"
      }
    },
    {
      "cell_type": "code",
      "source": [],
      "metadata": {
        "id": "4O2WsnKu1U7C"
      },
      "execution_count": null,
      "outputs": []
    },
    {
      "cell_type": "code",
      "source": [
        "!pip install ultralytics"
      ],
      "metadata": {
        "id": "sIJZ7b71plc2"
      },
      "execution_count": null,
      "outputs": []
    },
    {
      "cell_type": "markdown",
      "source": [
        "**Step 2: This one is optional, In case someone wish to upload videos directly to colab and analize, can try this. I have tried with mounting my drive instead. Which is presented in next block**"
      ],
      "metadata": {
        "id": "4WSv3l91d47U"
      }
    },
    {
      "cell_type": "code",
      "source": [
        "from google.colab import files\n",
        "uploaded = files.upload()"
      ],
      "metadata": {
        "colab": {
          "base_uri": "https://localhost:8080/",
          "height": 38
        },
        "id": "Ke5zSvFnpqVK",
        "outputId": "bf0ece6b-327f-467e-b968-3dca50148702"
      },
      "execution_count": null,
      "outputs": [
        {
          "output_type": "display_data",
          "data": {
            "text/plain": [
              "<IPython.core.display.HTML object>"
            ],
            "text/html": [
              "\n",
              "     <input type=\"file\" id=\"files-6f3ba312-9b8b-4d34-94cf-9b6f0b0cb772\" name=\"files[]\" multiple disabled\n",
              "        style=\"border:none\" />\n",
              "     <output id=\"result-6f3ba312-9b8b-4d34-94cf-9b6f0b0cb772\">\n",
              "      Upload widget is only available when the cell has been executed in the\n",
              "      current browser session. Please rerun this cell to enable.\n",
              "      </output>\n",
              "      <script>// Copyright 2017 Google LLC\n",
              "//\n",
              "// Licensed under the Apache License, Version 2.0 (the \"License\");\n",
              "// you may not use this file except in compliance with the License.\n",
              "// You may obtain a copy of the License at\n",
              "//\n",
              "//      http://www.apache.org/licenses/LICENSE-2.0\n",
              "//\n",
              "// Unless required by applicable law or agreed to in writing, software\n",
              "// distributed under the License is distributed on an \"AS IS\" BASIS,\n",
              "// WITHOUT WARRANTIES OR CONDITIONS OF ANY KIND, either express or implied.\n",
              "// See the License for the specific language governing permissions and\n",
              "// limitations under the License.\n",
              "\n",
              "/**\n",
              " * @fileoverview Helpers for google.colab Python module.\n",
              " */\n",
              "(function(scope) {\n",
              "function span(text, styleAttributes = {}) {\n",
              "  const element = document.createElement('span');\n",
              "  element.textContent = text;\n",
              "  for (const key of Object.keys(styleAttributes)) {\n",
              "    element.style[key] = styleAttributes[key];\n",
              "  }\n",
              "  return element;\n",
              "}\n",
              "\n",
              "// Max number of bytes which will be uploaded at a time.\n",
              "const MAX_PAYLOAD_SIZE = 100 * 1024;\n",
              "\n",
              "function _uploadFiles(inputId, outputId) {\n",
              "  const steps = uploadFilesStep(inputId, outputId);\n",
              "  const outputElement = document.getElementById(outputId);\n",
              "  // Cache steps on the outputElement to make it available for the next call\n",
              "  // to uploadFilesContinue from Python.\n",
              "  outputElement.steps = steps;\n",
              "\n",
              "  return _uploadFilesContinue(outputId);\n",
              "}\n",
              "\n",
              "// This is roughly an async generator (not supported in the browser yet),\n",
              "// where there are multiple asynchronous steps and the Python side is going\n",
              "// to poll for completion of each step.\n",
              "// This uses a Promise to block the python side on completion of each step,\n",
              "// then passes the result of the previous step as the input to the next step.\n",
              "function _uploadFilesContinue(outputId) {\n",
              "  const outputElement = document.getElementById(outputId);\n",
              "  const steps = outputElement.steps;\n",
              "\n",
              "  const next = steps.next(outputElement.lastPromiseValue);\n",
              "  return Promise.resolve(next.value.promise).then((value) => {\n",
              "    // Cache the last promise value to make it available to the next\n",
              "    // step of the generator.\n",
              "    outputElement.lastPromiseValue = value;\n",
              "    return next.value.response;\n",
              "  });\n",
              "}\n",
              "\n",
              "/**\n",
              " * Generator function which is called between each async step of the upload\n",
              " * process.\n",
              " * @param {string} inputId Element ID of the input file picker element.\n",
              " * @param {string} outputId Element ID of the output display.\n",
              " * @return {!Iterable<!Object>} Iterable of next steps.\n",
              " */\n",
              "function* uploadFilesStep(inputId, outputId) {\n",
              "  const inputElement = document.getElementById(inputId);\n",
              "  inputElement.disabled = false;\n",
              "\n",
              "  const outputElement = document.getElementById(outputId);\n",
              "  outputElement.innerHTML = '';\n",
              "\n",
              "  const pickedPromise = new Promise((resolve) => {\n",
              "    inputElement.addEventListener('change', (e) => {\n",
              "      resolve(e.target.files);\n",
              "    });\n",
              "  });\n",
              "\n",
              "  const cancel = document.createElement('button');\n",
              "  inputElement.parentElement.appendChild(cancel);\n",
              "  cancel.textContent = 'Cancel upload';\n",
              "  const cancelPromise = new Promise((resolve) => {\n",
              "    cancel.onclick = () => {\n",
              "      resolve(null);\n",
              "    };\n",
              "  });\n",
              "\n",
              "  // Wait for the user to pick the files.\n",
              "  const files = yield {\n",
              "    promise: Promise.race([pickedPromise, cancelPromise]),\n",
              "    response: {\n",
              "      action: 'starting',\n",
              "    }\n",
              "  };\n",
              "\n",
              "  cancel.remove();\n",
              "\n",
              "  // Disable the input element since further picks are not allowed.\n",
              "  inputElement.disabled = true;\n",
              "\n",
              "  if (!files) {\n",
              "    return {\n",
              "      response: {\n",
              "        action: 'complete',\n",
              "      }\n",
              "    };\n",
              "  }\n",
              "\n",
              "  for (const file of files) {\n",
              "    const li = document.createElement('li');\n",
              "    li.append(span(file.name, {fontWeight: 'bold'}));\n",
              "    li.append(span(\n",
              "        `(${file.type || 'n/a'}) - ${file.size} bytes, ` +\n",
              "        `last modified: ${\n",
              "            file.lastModifiedDate ? file.lastModifiedDate.toLocaleDateString() :\n",
              "                                    'n/a'} - `));\n",
              "    const percent = span('0% done');\n",
              "    li.appendChild(percent);\n",
              "\n",
              "    outputElement.appendChild(li);\n",
              "\n",
              "    const fileDataPromise = new Promise((resolve) => {\n",
              "      const reader = new FileReader();\n",
              "      reader.onload = (e) => {\n",
              "        resolve(e.target.result);\n",
              "      };\n",
              "      reader.readAsArrayBuffer(file);\n",
              "    });\n",
              "    // Wait for the data to be ready.\n",
              "    let fileData = yield {\n",
              "      promise: fileDataPromise,\n",
              "      response: {\n",
              "        action: 'continue',\n",
              "      }\n",
              "    };\n",
              "\n",
              "    // Use a chunked sending to avoid message size limits. See b/62115660.\n",
              "    let position = 0;\n",
              "    do {\n",
              "      const length = Math.min(fileData.byteLength - position, MAX_PAYLOAD_SIZE);\n",
              "      const chunk = new Uint8Array(fileData, position, length);\n",
              "      position += length;\n",
              "\n",
              "      const base64 = btoa(String.fromCharCode.apply(null, chunk));\n",
              "      yield {\n",
              "        response: {\n",
              "          action: 'append',\n",
              "          file: file.name,\n",
              "          data: base64,\n",
              "        },\n",
              "      };\n",
              "\n",
              "      let percentDone = fileData.byteLength === 0 ?\n",
              "          100 :\n",
              "          Math.round((position / fileData.byteLength) * 100);\n",
              "      percent.textContent = `${percentDone}% done`;\n",
              "\n",
              "    } while (position < fileData.byteLength);\n",
              "  }\n",
              "\n",
              "  // All done.\n",
              "  yield {\n",
              "    response: {\n",
              "      action: 'complete',\n",
              "    }\n",
              "  };\n",
              "}\n",
              "\n",
              "scope.google = scope.google || {};\n",
              "scope.google.colab = scope.google.colab || {};\n",
              "scope.google.colab._files = {\n",
              "  _uploadFiles,\n",
              "  _uploadFilesContinue,\n",
              "};\n",
              "})(self);\n",
              "</script> "
            ]
          },
          "metadata": {}
        }
      ]
    },
    {
      "cell_type": "markdown",
      "source": [
        "**Mount you drive to access videos and store output.**"
      ],
      "metadata": {
        "id": "WE0naLs1exLR"
      }
    },
    {
      "cell_type": "code",
      "source": [
        "from google.colab import drive\n",
        "drive.mount('/content/drive')"
      ],
      "metadata": {
        "colab": {
          "base_uri": "https://localhost:8080/"
        },
        "id": "iEqABlYmxe48",
        "outputId": "865123bd-b69e-47bf-aa92-fa41efff74c8"
      },
      "execution_count": null,
      "outputs": [
        {
          "output_type": "stream",
          "name": "stdout",
          "text": [
            "Drive already mounted at /content/drive; to attempt to forcibly remount, call drive.mount(\"/content/drive\", force_remount=True).\n"
          ]
        }
      ]
    },
    {
      "cell_type": "code",
      "source": [
        "import os\n",
        "list_of_videos = os.listdir(\"/content/drive/MyDrive/perioko_assignment/sources/individual_clips/\")"
      ],
      "metadata": {
        "id": "6FkVJWOiAJi7"
      },
      "execution_count": null,
      "outputs": []
    },
    {
      "cell_type": "markdown",
      "source": [
        "**Step 3: Detection on individual clips**"
      ],
      "metadata": {
        "id": "5Qst2mNZ2LQj"
      }
    },
    {
      "cell_type": "code",
      "source": [
        "import pandas as pd\n",
        "from ultralytics import YOLO\n",
        "model = YOLO(f\"yolov8n.pt\")\n",
        "for video in list_of_videos:\n",
        "  results = model.predict(source=os.path.join(\"/content/drive/MyDrive/perioko_assignment/sources/individual_clips\",video), save=True, classes=[41,62,67], stream=True, save_frames=True)\n",
        "  list = []\n",
        "  i=1\n",
        "  for result in results:\n",
        "    boxes = result.boxes.cpu().numpy()\n",
        "    for box in boxes:\n",
        "        cls = int(box.cls[0])\n",
        "        class_name = model.names[cls]\n",
        "        conf = int(box.conf[0]*100)\n",
        "        bx = box.xywh.tolist()\n",
        "        df = pd.DataFrame({'item_no': [i], 'class_name': [class_name], 'confidence': [conf]})\n",
        "        list.append(df)\n",
        "        i+=1\n",
        "  if len(list)!=0:\n",
        "    df = pd.concat(list)\n",
        "    df.to_csv(video[:-3] + 'csv', index=False)\n",
        "#results = model.predict(source=\"/content/drive/MyDrive/perioko_assignment/sources/individual_clips/TechnicalSampleForTest00094867.mov\", save=True, classes=[41,62,67], save_txt=True)\n"
      ],
      "metadata": {
        "id": "PnfDnxh6qFe_"
      },
      "execution_count": null,
      "outputs": []
    },
    {
      "cell_type": "markdown",
      "source": [
        "**Step 4: Predicting with single video.**"
      ],
      "metadata": {
        "id": "DH08W5TVIkBx"
      }
    },
    {
      "cell_type": "code",
      "source": [
        "import pandas as pd\n",
        "from ultralytics import YOLO\n",
        "model = YOLO(f\"yolov8n.pt\")\n",
        "results = model.predict(\"/content/drive/MyDrive/perioko_assignment/sources/TechnicalTest-Footage.mov\", save=True, classes=[41,62,67], stream=True, save_frames=True)\n",
        "list = []\n",
        "i=1\n",
        "for result in results:\n",
        "  boxes = result.boxes.cpu().numpy()\n",
        "  for box in boxes:\n",
        "      cls = int(box.cls[0])\n",
        "      class_name = model.names[cls]\n",
        "      conf = int(box.conf[0]*100)\n",
        "      df = pd.DataFrame({'item_no': [i], 'class_name': [class_name], 'confidence': [conf]})\n",
        "      list.append(df)\n",
        "      i+=1\n",
        "df = pd.concat(list)\n",
        "df.to_csv('TechnicalTest-Footage.csv', index=False)\n"
      ],
      "metadata": {
        "id": "KZPIrH6LXv0E"
      },
      "execution_count": null,
      "outputs": []
    },
    {
      "cell_type": "markdown",
      "source": [
        "**Step 5: Save the results to drive.**"
      ],
      "metadata": {
        "id": "yJme4QR32amu"
      }
    },
    {
      "cell_type": "code",
      "source": [
        "import shutil\n",
        "\n",
        "shutil.move(\"/content/runs/detect/predict\",\"/content/drive/MyDrive/perioko_assignment/Outputs/individual_video_output\" )\n",
        "shutil.move(\"/content/runs/detect/predict2\",\"/content/drive/MyDrive/perioko_assignment/Outputs/combined_video_output\" )"
      ],
      "metadata": {
        "colab": {
          "base_uri": "https://localhost:8080/",
          "height": 36
        },
        "id": "ParqQDe6cuVr",
        "outputId": "38027a74-496e-4f09-8267-5f7d12d0cea9"
      },
      "execution_count": null,
      "outputs": [
        {
          "output_type": "execute_result",
          "data": {
            "text/plain": [
              "'/content/drive/MyDrive/perioko_assignment/Outputs/combined_video_output/predict2'"
            ],
            "application/vnd.google.colaboratory.intrinsic+json": {
              "type": "string"
            }
          },
          "metadata": {},
          "execution_count": 8
        }
      ]
    },
    {
      "cell_type": "markdown",
      "source": [
        "**Step 6: Tracking the Detections.**"
      ],
      "metadata": {
        "id": "Jf-c1aKr4Lb9"
      }
    },
    {
      "cell_type": "code",
      "source": [
        "from ultralytics import YOLO\n",
        "\n",
        "# Load the model\n",
        "model = YOLO('yolov8n.pt')\n",
        "tracking_results = model.track(source=\"/content/drive/MyDrive/perioko_assignment/sources/TechnicalTest-Footage.mov\", save=True, classes=[41,62,67], stream=True)\n",
        "for result in tracking_results:\n",
        "  continue"
      ],
      "metadata": {
        "id": "Q1KFGOdi9C5U"
      },
      "execution_count": null,
      "outputs": []
    },
    {
      "cell_type": "code",
      "source": [
        "import shutil\n",
        "\n",
        "shutil.copy(\"/content/runs/detect/track2/TechnicalTest-Footage.avi\",\"/content/drive/MyDrive/perioko_assignment/Outputs/Track/TechnicalTest-Footage.avi\" )"
      ],
      "metadata": {
        "colab": {
          "base_uri": "https://localhost:8080/",
          "height": 36
        },
        "id": "Ezn2VwmjJBmy",
        "outputId": "71af1e89-5805-4e73-e98e-391eeb359863"
      },
      "execution_count": null,
      "outputs": [
        {
          "output_type": "execute_result",
          "data": {
            "text/plain": [
              "'/content/drive/MyDrive/perioko_assignment/Outputs/Track/TechnicalTest-Footage.avi'"
            ],
            "application/vnd.google.colaboratory.intrinsic+json": {
              "type": "string"
            }
          },
          "metadata": {},
          "execution_count": 8
        }
      ]
    },
    {
      "cell_type": "markdown",
      "source": [
        "**Step 7: Segmentation of detected objects.**"
      ],
      "metadata": {
        "id": "M7ySEs3tG4fZ"
      }
    },
    {
      "cell_type": "code",
      "source": [
        "from ultralytics import YOLO\n",
        "\n",
        "# Load a model\n",
        "model = YOLO('yolov8n-seg.pt')  # load an official model\n",
        "\n",
        "# Predict with the model\n",
        "results = model(source=\"/content/drive/MyDrive/perioko_assignment/sources/TechnicalTest-Footage.mov\", save=True, classes=[41,62,67], stream=True)  # predict on an image\n",
        "for result in results:\n",
        "  continue"
      ],
      "metadata": {
        "id": "EzRAxV-iG9tc"
      },
      "execution_count": null,
      "outputs": []
    },
    {
      "cell_type": "code",
      "source": [
        "import shutil\n",
        "\n",
        "shutil.copy(\"/content/runs/segment/predict3/TechnicalTest-Footage.avi\",\"/content/drive/MyDrive/perioko_assignment/Outputs/Segment/TechnicalTest-Footage.avi\" )"
      ],
      "metadata": {
        "colab": {
          "base_uri": "https://localhost:8080/",
          "height": 36
        },
        "id": "a0RcQLZ20Dr3",
        "outputId": "6fffa69c-5554-4fbf-e98c-25385010d293"
      },
      "execution_count": null,
      "outputs": [
        {
          "output_type": "execute_result",
          "data": {
            "text/plain": [
              "'/content/drive/MyDrive/perioko_assignment/Outputs/Segment/TechnicalTest-Footage.avi'"
            ],
            "application/vnd.google.colaboratory.intrinsic+json": {
              "type": "string"
            }
          },
          "metadata": {},
          "execution_count": 10
        }
      ]
    }
  ]
}